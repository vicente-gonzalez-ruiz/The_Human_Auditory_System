{
 "cells": [
  {
   "cell_type": "markdown",
   "metadata": {},
   "source": [
    "# The Human Auditory System"
   ]
  },
  {
   "cell_type": "markdown",
   "metadata": {},
   "source": [
    "## Anatomy of the human auditory system\n",
    "\n",
    "* The human auditory system (HAS) is responsible for converting pressure variations caused by the sound waves (that reach the ear) in the synaptic signals that are interpreted by the brain.\n",
    "\n",
    "<img src=\"https://upload.wikimedia.org/wikipedia/commons/thumb/d/dc/Anatomy_of_the_Human_Ear_en.svg/1000px-Anatomy_of_the_Human_Ear_en.svg.png\" width=\"500\">"
   ]
  },
  {
   "cell_type": "markdown",
   "metadata": {},
   "source": [
    "## Outer ear\n",
    "* Outer ear consists of the pinna (ear), the ear canal and eardrum. His shape of \"cone\" allows it to concentrate the sound pressure on the eardrum, the membrane that separates the outer ear from the middle ear.\n",
    "\n",
    "<img src=\"https://upload.wikimedia.org/wikipedia/commons/thumb/d/dc/Anatomy_of_the_Human_Ear_en.svg/1000px-Anatomy_of_the_Human_Ear_en.svg.png\" width=\"500\">"
   ]
  },
  {
   "cell_type": "markdown",
   "metadata": {},
   "source": [
    "## Middle ear\n",
    "\n",
    "* Middle ear abuts the outer ear by the eardrum and the inner ear through the round window. It also communicates with the throat through the Eustachian tube.\n",
    "\n",
    "* It contains the ossicles (hammer, anvil and stirrup), whose mission is to propagate (filtering and amplifying/dampening) oscillations of the eardrum to the oval window. To that end they use two muscles (tensor tympani and stapedius), which control the movement of the ossicles to prevent transmission of sounds too intense that could damage the inner ear.\n",
    "\n",
    "* When a sound too strident reaches our ears, middle ear muscles dampen the movements of the ossicles and so reducing the amplitude of the oscillations (cushioning).\n",
    "\n",
    "* Unfortunately, the middle ear muscles do not respond instantly (can not absorb sounds of very short duration, such as a blast) and also fatigue quickly. So it is not advisable to be exposed to a loud sound source for a long period of time.\n",
    "\n",
    "<img src=\"https://upload.wikimedia.org/wikipedia/commons/thumb/d/dc/Anatomy_of_the_Human_Ear_en.svg/1000px-Anatomy_of_the_Human_Ear_en.svg.png\" width=\"500\">"
   ]
  },
  {
   "cell_type": "markdown",
   "metadata": {},
   "source": [
    "## The inner ear\n",
    "* The inner ear is an hermetic cavity flooded by lymph. It consists of 3 components: the semicircular canals that control balance, the lobby, and the cochlea.\n",
    "\n",
    "* The vibrations reach the cochlea are transformed into nerve impulses that reach the brain via the cochlear nerve.\n",
    "\n",
    "<img src=\"https://upload.wikimedia.org/wikipedia/commons/thumb/d/dc/Anatomy_of_the_Human_Ear_en.svg/1000px-Anatomy_of_the_Human_Ear_en.svg.png\" width=\"500\">\n",
    "\n",
    "* The cochlea (or snail) is a circular line coiled on itself. Longitudinally, the interior is divided into two parts by the basilar membrane is lined by hair cells that move with the pressure differences that travel through the lymph. These cells are very sensitive to deformation and are connected to the cochlear nerve endings.\n",
    "\n",
    "* By the structure of the snail, the hair cells resonate at different frequencies. Those that are closer to the middle ear vibrate with low frequencies and more remote, with high frequencies.\n",
    "\n",
    "<img src=\"https://anatomywiki101.com/wp-content/uploads/2017/08/fluid-contained-in-the-inner-part-of-the-ear-chapter-23-the-eye-ear-special-sense-organs-junqueiras.png\" width=\"600\">"
   ]
  },
  {
   "cell_type": "markdown",
   "metadata": {},
   "source": [
    "## The bone conduction\n",
    "* Besides through the middle ear, the sound waves reach the inner ear directly through the oscillation of the skull bones. Bone transmission accounts we hear our voice with a distinct timbre which hears other people.\n",
    "\n",
    "<img src=\"https://upload.wikimedia.org/wikipedia/commons/4/4e/Sobo_1909_38.png\" width=\"600\">"
   ]
  },
  {
   "cell_type": "markdown",
   "metadata": {},
   "source": []
  }
 ],
 "metadata": {
  "kernelspec": {
   "display_name": "Python 3",
   "language": "python",
   "name": "python3"
  },
  "language_info": {
   "codemirror_mode": {
    "name": "ipython",
    "version": 3
   },
   "file_extension": ".py",
   "mimetype": "text/x-python",
   "name": "python",
   "nbconvert_exporter": "python",
   "pygments_lexer": "ipython3",
   "version": "3.6.3"
  }
 },
 "nbformat": 4,
 "nbformat_minor": 2
}
